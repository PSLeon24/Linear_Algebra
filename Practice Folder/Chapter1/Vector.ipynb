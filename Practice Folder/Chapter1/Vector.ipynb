{
 "cells": [
  {
   "cell_type": "code",
   "execution_count": 11,
   "id": "79252bd5",
   "metadata": {},
   "outputs": [],
   "source": [
    "from numpy import array as vector"
   ]
  },
  {
   "cell_type": "markdown",
   "id": "d1c131f9",
   "metadata": {},
   "source": [
    "## R²"
   ]
  },
  {
   "cell_type": "code",
   "execution_count": 12,
   "id": "c4bbe7ba",
   "metadata": {},
   "outputs": [
    {
     "name": "stdout",
     "output_type": "stream",
     "text": [
      "vector OQ = [2 3]\n",
      "vector P1Q1 = [2 3]\n",
      "vector P2Q2 = [2 3]\n",
      "vector OQ = vector P1Q1 = vector P2Q2\n"
     ]
    }
   ],
   "source": [
    "o = vector([0, 0]) # R^2\n",
    "p1 = vector([0, -4])\n",
    "p2 = vector([-3, 1])\n",
    "q = vector([2, 3])\n",
    "q1 = vector([2, -1])\n",
    "q2 = vector([-1, 4])\n",
    "\n",
    "print(f'vector OQ = {q - o}')\n",
    "print(f'vector P1Q1 = {q1 - p1}')\n",
    "print(f'vector P2Q2 = {q2 - p2}')\n",
    "print(f'vector OQ = vector P1Q1 = vector P2Q2')"
   ]
  },
  {
   "cell_type": "code",
   "execution_count": 13,
   "id": "b8a59d67",
   "metadata": {},
   "outputs": [
    {
     "name": "stdout",
     "output_type": "stream",
     "text": [
      "x + y = [-1  6]\n",
      "x - y = [ 3 -2]\n",
      "-2 * x = [-2 -4]\n"
     ]
    }
   ],
   "source": [
    "x = vector([1, 2])\n",
    "y = vector([-2, 4])\n",
    "print(f'x + y = {x + y}')\n",
    "print(f'x - y = {x - y}')\n",
    "print(f'-2 * x = {-2*x}')"
   ]
  },
  {
   "cell_type": "markdown",
   "id": "6c41ac64",
   "metadata": {},
   "source": [
    "## R³"
   ]
  },
  {
   "cell_type": "code",
   "execution_count": 14,
   "id": "f641b7bb",
   "metadata": {},
   "outputs": [
    {
     "name": "stdout",
     "output_type": "stream",
     "text": [
      "vector OQ = [2 3 4]\n",
      "vector P1Q1 = [2 3 4]\n",
      "vector P2Q2 = [2 3 4]\n",
      "vector OQ = vector P1Q1 = vector P2Q2\n"
     ]
    }
   ],
   "source": [
    "o = vector([0, 0, 0])\n",
    "p1 = vector([0, -4, 2])\n",
    "p2 = vector([-3, 1, 0])\n",
    "q = vector([2, 3, 4])\n",
    "q1 = vector([2, -1, 6])\n",
    "q2 = vector([-1, 4, 4])\n",
    "\n",
    "print(f'vector OQ = {q - o}')\n",
    "print(f'vector P1Q1 = {q1 - p1}')\n",
    "print(f'vector P2Q2 = {q2 - p2}')\n",
    "print(f'vector OQ = vector P1Q1 = vector P2Q2')"
   ]
  },
  {
   "cell_type": "markdown",
   "id": "7368d3d7",
   "metadata": {},
   "source": [
    "## R⁴"
   ]
  },
  {
   "cell_type": "code",
   "execution_count": 15,
   "id": "3081f6bd",
   "metadata": {},
   "outputs": [
    {
     "name": "stdout",
     "output_type": "stream",
     "text": [
      "x + y = [-1  6 -2  4]\n",
      "x - y = [ 3 -2 -4  4]\n",
      "-2 * x = [-2 -4  6 -8]\n"
     ]
    }
   ],
   "source": [
    "x = vector([1, 2, -3, 4])\n",
    "y = vector([-2, 4, 1, 0])\n",
    "print(f'x + y = {x + y}')\n",
    "print(f'x - y = {x - y}')\n",
    "print(f'-2 * x = {-2*x}')"
   ]
  },
  {
   "cell_type": "code",
   "execution_count": null,
   "id": "c662cd34",
   "metadata": {},
   "outputs": [],
   "source": []
  }
 ],
 "metadata": {
  "kernelspec": {
   "display_name": "MP_vision",
   "language": "python",
   "name": "mp_vision"
  },
  "language_info": {
   "codemirror_mode": {
    "name": "ipython",
    "version": 3
   },
   "file_extension": ".py",
   "mimetype": "text/x-python",
   "name": "python",
   "nbconvert_exporter": "python",
   "pygments_lexer": "ipython3",
   "version": "3.10.6"
  }
 },
 "nbformat": 4,
 "nbformat_minor": 5
}
