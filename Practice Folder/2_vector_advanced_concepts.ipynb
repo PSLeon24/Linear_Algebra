{
 "cells": [
  {
   "cell_type": "code",
   "execution_count": 4,
   "id": "ac334fb3",
   "metadata": {},
   "outputs": [],
   "source": [
    "import numpy as np"
   ]
  },
  {
   "cell_type": "markdown",
   "id": "43e8d412",
   "metadata": {},
   "source": [
    "# 1. 선형 가중 결합"
   ]
  },
  {
   "cell_type": "code",
   "execution_count": 23,
   "id": "a818de3c",
   "metadata": {},
   "outputs": [
    {
     "name": "stdout",
     "output_type": "stream",
     "text": [
      "w = (l1 * v1) + (l2 * v2) + (l3 * v3)\n",
      "  = (1 * [4 5 1]) + (2 * [-4  0 -4]) + (-3 * [1 3 2])\n",
      "  = [ -7  -4 -13]\n"
     ]
    }
   ],
   "source": [
    "l1, l2, l3 = 1, 2, -3 # l1, l2, l3은 각각 가중치(weights)\n",
    "v1 = np.array([4, 5, 1])\n",
    "v2 = np.array([-4, 0, -4])\n",
    "v3 = np.array([1, 3, 2])\n",
    "\n",
    "print(f'w = (l1 * v1) + (l2 * v2) + (l3 * v3)')\n",
    "print(f'  = ({l1} * {v1}) + ({l2} * {v2}) + ({l3} * {v3})')\n",
    "print(f'  = {l1*v1 + l2*v2 + l3*v3}')"
   ]
  },
  {
   "cell_type": "markdown",
   "id": "cfbb1873",
   "metadata": {},
   "source": [
    "# 2. 선형 독립성"
   ]
  },
  {
   "cell_type": "code",
   "execution_count": 48,
   "id": "c57027da",
   "metadata": {},
   "outputs": [
    {
     "name": "stdout",
     "output_type": "stream",
     "text": [
      "Vector V is linearly independent. \n",
      "[[1 3]\n",
      " [2 7]]\n",
      "\n",
      "Vector S is linearly dependent. \n",
      "[[1 3]\n",
      " [2 6]]\n"
     ]
    }
   ],
   "source": [
    "V = np.array([ [1, 3], [2, 7] ])\n",
    "S = np.array([ [1, 3], [2, 6] ])\n",
    "\n",
    "print(f'Vector V is linearly independent. \\n{V}\\n')\n",
    "print(f'Vector S is linearly dependent. \\n{S}')"
   ]
  },
  {
   "cell_type": "code",
   "execution_count": 56,
   "id": "1b0e9c2b",
   "metadata": {},
   "outputs": [
    {
     "data": {
      "text/plain": [
       "array([[ 8, -4, 14,  6],\n",
       "       [ 4,  6,  0,  3],\n",
       "       [14,  2,  4,  7],\n",
       "       [13,  2,  9,  8]])"
      ]
     },
     "execution_count": 56,
     "metadata": {},
     "output_type": "execute_result"
    }
   ],
   "source": [
    "T = np.array([ [8, -4, 14, 6], [4, 6, 0, 3], [14, 2, 4, 7], [13, 2, 9, 8] ])\n",
    "T"
   ]
  },
  {
   "cell_type": "markdown",
   "id": "73bdb7cc",
   "metadata": {},
   "source": [
    "# 3. 기저"
   ]
  },
  {
   "cell_type": "code",
   "execution_count": 57,
   "id": "d5a7d885",
   "metadata": {},
   "outputs": [
    {
     "name": "stdout",
     "output_type": "stream",
     "text": [
      "[[1 0]\n",
      " [0 1]]\n",
      "\n",
      "[[1 0 0]\n",
      " [0 1 0]\n",
      " [0 0 1]]\n"
     ]
    }
   ],
   "source": [
    "S2 = np.array([ [1, 0], [0, 1] ])\n",
    "S3 = np.array([ [1, 0, 0], [0, 1, 0], [0, 0, 1] ])\n",
    "\n",
    "print(S2)\n",
    "print()\n",
    "print(S3)"
   ]
  },
  {
   "cell_type": "code",
   "execution_count": 58,
   "id": "9335e906",
   "metadata": {},
   "outputs": [
    {
     "name": "stdout",
     "output_type": "stream",
     "text": [
      "[[ 3  1]\n",
      " [-3  1]]\n"
     ]
    }
   ],
   "source": [
    "T = np.array([ [3, 1], [-3, 1] ])\n",
    "print(T)"
   ]
  },
  {
   "cell_type": "code",
   "execution_count": null,
   "id": "290c4b43",
   "metadata": {},
   "outputs": [],
   "source": []
  }
 ],
 "metadata": {
  "kernelspec": {
   "display_name": "MP_vision",
   "language": "python",
   "name": "mp_vision"
  },
  "language_info": {
   "codemirror_mode": {
    "name": "ipython",
    "version": 3
   },
   "file_extension": ".py",
   "mimetype": "text/x-python",
   "name": "python",
   "nbconvert_exporter": "python",
   "pygments_lexer": "ipython3",
   "version": "3.10.6"
  }
 },
 "nbformat": 4,
 "nbformat_minor": 5
}
