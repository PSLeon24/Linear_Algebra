{
 "cells": [
  {
   "cell_type": "markdown",
   "id": "59fea743",
   "metadata": {},
   "source": [
    "# 1. 벡터, 파트1: 벡터와 벡터의 기본 연산"
   ]
  },
  {
   "cell_type": "markdown",
   "id": "e0b682e2",
   "metadata": {},
   "source": [
    "선형대수학 응용 분야에서는 리스트 타입은 잘 사용하지 않고 NumPy 배열로 생성하여 사용"
   ]
  },
  {
   "cell_type": "code",
   "execution_count": 10,
   "id": "da23a40e",
   "metadata": {},
   "outputs": [
    {
     "name": "stdout",
     "output_type": "stream",
     "text": [
      "------------------------------\n",
      "리스트\n",
      " [1, 2, 3]\n",
      "type: <class 'list'>\n",
      "asList: (3,)\n",
      "------------------------------\n",
      "1차원 배열\n",
      " [1 2 3]\n",
      "type: <class 'numpy.ndarray'>\n",
      "asArray: (3,)\n",
      "------------------------------\n",
      "행벡터\n",
      " [[1 2 3]]\n",
      "type: <class 'numpy.ndarray'>\n",
      "rowVec: (1, 3)\n",
      "------------------------------\n",
      "열벡터\n",
      " [[1]\n",
      " [2]\n",
      " [3]]\n",
      "type: <class 'numpy.ndarray'>\n",
      "colVec: (3, 1)\n",
      "------------------------------\n"
     ]
    }
   ],
   "source": [
    "import numpy as np\n",
    "\n",
    "asList = [1, 2, 3] # 리스트 타입\n",
    "asArray = np.array([1, 2, 3]) # 1차원 배열 ~ 방향이 없는 배열\n",
    "rowVec = np.array([ [1, 2, 3] ]) # 행벡터\n",
    "colVec = np.array([ [1], [2], [3] ]) # 열벡터\n",
    "\n",
    "print('-'*30)\n",
    "print('리스트\\n', asList)\n",
    "print(f'type: {type(asList)}')\n",
    "print(f'asList: {np.shape(asList)}')\n",
    "print('-'*30)\n",
    "print('1차원 배열\\n', asArray)\n",
    "print(f'type: {type(asArray)}')\n",
    "print(f'asArray: {np.shape(asArray)}')\n",
    "print('-'*30)\n",
    "print('행벡터\\n', rowVec)\n",
    "print(f'type: {type(rowVec)}')\n",
    "print(f'rowVec: {np.shape(rowVec)}')\n",
    "print('-'*30)\n",
    "print('열벡터\\n', colVec)\n",
    "print(f'type: {type(colVec)}')\n",
    "print(f'colVec: {np.shape(colVec)}')\n",
    "print('-'*30)"
   ]
  },
  {
   "cell_type": "markdown",
   "id": "b91b05ae",
   "metadata": {},
   "source": [
    "## 벡터 연산"
   ]
  },
  {
   "cell_type": "code",
   "execution_count": 23,
   "id": "d0ab607c",
   "metadata": {},
   "outputs": [
    {
     "name": "stdout",
     "output_type": "stream",
     "text": [
      "v: [[4 5 6]]\n",
      "\n",
      "w: [[10 20 30]]\n",
      "\n",
      " u: [[0 3 6 9]]\n",
      "----------------------------------------\n",
      "transpose\n",
      "v: [[4]\n",
      " [5]\n",
      " [6]]\n",
      "\n",
      "w: [[10]\n",
      " [20]\n",
      " [30]]\n",
      "\n",
      "u: [[0]\n",
      " [3]\n",
      " [6]\n",
      " [9]]\n"
     ]
    }
   ],
   "source": [
    "v = np.array([ [4, 5, 6] ])\n",
    "w = np.array([ [10, 20, 30] ])\n",
    "u = np.array([ [0, 3, 6, 9] ])\n",
    "print(f'v: {v}\\n\\nw: {w}\\n\\n u: {u}')\n",
    "print('-'*40)\n",
    "\n",
    "print('transpose')\n",
    "print(f'v: {v.T}\\n\\nw: {w.T}\\n\\nu: {u.T}')"
   ]
  },
  {
   "cell_type": "code",
   "execution_count": 24,
   "id": "60ab50f9",
   "metadata": {},
   "outputs": [
    {
     "name": "stdout",
     "output_type": "stream",
     "text": [
      "[[14 25 36]]\n"
     ]
    }
   ],
   "source": [
    "# 두 벡터의 덧셈 - 1\n",
    "vPlusW = v + w\n",
    "print(vPlusW)"
   ]
  },
  {
   "cell_type": "code",
   "execution_count": 25,
   "id": "53d0a2ea",
   "metadata": {},
   "outputs": [
    {
     "ename": "ValueError",
     "evalue": "operands could not be broadcast together with shapes (1,4) (1,3) ",
     "output_type": "error",
     "traceback": [
      "\u001b[0;31m---------------------------------------------------------------------------\u001b[0m",
      "\u001b[0;31mValueError\u001b[0m                                Traceback (most recent call last)",
      "Cell \u001b[0;32mIn[25], line 2\u001b[0m\n\u001b[1;32m      1\u001b[0m \u001b[38;5;66;03m# 두 벡터의 덧셈 - 2\u001b[39;00m\n\u001b[0;32m----> 2\u001b[0m uPlusW \u001b[38;5;241m=\u001b[39m \u001b[43mu\u001b[49m\u001b[43m \u001b[49m\u001b[38;5;241;43m+\u001b[39;49m\u001b[43m \u001b[49m\u001b[43mw\u001b[49m\n\u001b[1;32m      3\u001b[0m \u001b[38;5;28mprint\u001b[39m(uPlusW)\n",
      "\u001b[0;31mValueError\u001b[0m: operands could not be broadcast together with shapes (1,4) (1,3) "
     ]
    }
   ],
   "source": [
    "# 두 벡터의 덧셈 - 2\n",
    "uPlusW = u + w\n",
    "print(uPlusW)"
   ]
  },
  {
   "cell_type": "code",
   "execution_count": 37,
   "id": "5f100ec2",
   "metadata": {},
   "outputs": [
    {
     "name": "stdout",
     "output_type": "stream",
     "text": [
      "[[14 15 16]\n",
      " [24 25 26]\n",
      " [34 35 36]]\n",
      "------------------------------\n",
      "[[11 21]\n",
      " [12 22]\n",
      " [13 23]]\n"
     ]
    }
   ],
   "source": [
    "# 브로드캐스팅\n",
    "v = np.array([ [4, 5, 6] ]) # rowVec\n",
    "w = np.array([ [10, 20, 30] ]).T # colVec(Transpose of w)\n",
    "print(v + w)\n",
    "\n",
    "print('-'*30)\n",
    "\n",
    "v = np.array([ [1, 2, 3] ]).T\n",
    "w = np.array([ [10, 20] ])\n",
    "print(v + w)\n",
    "\n",
    "# [1 1]   [10 20]\n",
    "# [2 2] + [10 20]\n",
    "# [3 3]   [10 20]"
   ]
  },
  {
   "cell_type": "code",
   "execution_count": 27,
   "id": "5fcee73b",
   "metadata": {},
   "outputs": [
    {
     "name": "stdout",
     "output_type": "stream",
     "text": [
      "[3, 4, 5, 3, 4, 5]\n",
      "[ 6  8 10]\n"
     ]
    }
   ],
   "source": [
    "# 스칼라-벡터 곱셈\n",
    "s = 2\n",
    "a = [3, 4, 5] # 리스트\n",
    "b = np.array(a) # np 배열\n",
    "\n",
    "print(a * s)\n",
    "print(b * s)"
   ]
  },
  {
   "cell_type": "markdown",
   "id": "a76bf814",
   "metadata": {},
   "source": [
    "- 주의! 파이썬의 리스트의 경우 리스트에 스칼라를 곱하면 리스트를 반복함\n",
    "    - 이 방식은 선형대수학의 스칼라-벡터 곱셈이 아님"
   ]
  },
  {
   "cell_type": "code",
   "execution_count": 29,
   "id": "166a627d",
   "metadata": {},
   "outputs": [
    {
     "data": {
      "text/plain": [
       "array([5, 8])"
      ]
     },
     "execution_count": 29,
     "metadata": {},
     "output_type": "execute_result"
    }
   ],
   "source": [
    "# 스칼라-벡터 덧셈\n",
    "# 선형대수학에서는 스칼라+벡터가 불가능. but 파이썬과 같은 프로그램에서는 가능\n",
    "s = 2\n",
    "v = np.array([3, 6])\n",
    "s + v"
   ]
  },
  {
   "cell_type": "code",
   "execution_count": 38,
   "id": "6726001d",
   "metadata": {},
   "outputs": [
    {
     "data": {
      "text/plain": [
       "70"
      ]
     },
     "execution_count": 38,
     "metadata": {},
     "output_type": "execute_result"
    }
   ],
   "source": [
    "# 내적\n",
    "v = np.array([1, 2, 3, 4])\n",
    "w = np.array([5, 6, 7, 8])\n",
    "np.dot(v, w)"
   ]
  },
  {
   "cell_type": "code",
   "execution_count": 39,
   "id": "d18d7877",
   "metadata": {},
   "outputs": [
    {
     "data": {
      "text/plain": [
       "700"
      ]
     },
     "execution_count": 39,
     "metadata": {},
     "output_type": "execute_result"
    }
   ],
   "source": [
    "s = 10\n",
    "np.dot(s*v, w)"
   ]
  },
  {
   "cell_type": "code",
   "execution_count": 40,
   "id": "19e56a33",
   "metadata": {},
   "outputs": [
    {
     "data": {
      "text/plain": [
       "1400"
      ]
     },
     "execution_count": 40,
     "metadata": {},
     "output_type": "execute_result"
    }
   ],
   "source": [
    "s = 20\n",
    "np.dot(s*v, w)"
   ]
  },
  {
   "cell_type": "code",
   "execution_count": 41,
   "id": "7b398302",
   "metadata": {},
   "outputs": [
    {
     "data": {
      "text/plain": [
       "-70"
      ]
     },
     "execution_count": 41,
     "metadata": {},
     "output_type": "execute_result"
    }
   ],
   "source": [
    "s = -1\n",
    "np.dot(s*v, w)"
   ]
  },
  {
   "cell_type": "code",
   "execution_count": 42,
   "id": "d3228bc7",
   "metadata": {},
   "outputs": [
    {
     "name": "stdout",
     "output_type": "stream",
     "text": [
      "110 110\n"
     ]
    }
   ],
   "source": [
    "# 내적의 분배 법칙\n",
    "a = np.array([ 0, 1, 2 ])\n",
    "b = np.array([ 3, 5, 8 ])\n",
    "c = np.array([ 13, 21, 34 ])\n",
    "\n",
    "res1 = np.dot( a, b+c )\n",
    "res2 = np.dot( a, b ) + np.dot( a, c )\n",
    "print(res1, res2)"
   ]
  },
  {
   "cell_type": "code",
   "execution_count": 47,
   "id": "3a07db4d",
   "metadata": {},
   "outputs": [
    {
     "data": {
      "text/plain": [
       "array([ 5.,  0.,  4., -2.])"
      ]
     },
     "execution_count": 47,
     "metadata": {},
     "output_type": "execute_result"
    }
   ],
   "source": [
    "# 아다마르곱\n",
    "a = np.array([5, 4, 8, 2])\n",
    "b = np.array([1, 0, .5, -1])\n",
    "a * b"
   ]
  },
  {
   "cell_type": "code",
   "execution_count": null,
   "id": "8926b673",
   "metadata": {},
   "outputs": [],
   "source": []
  }
 ],
 "metadata": {
  "kernelspec": {
   "display_name": "data-analysis",
   "language": "python",
   "name": "data-analysis"
  },
  "language_info": {
   "codemirror_mode": {
    "name": "ipython",
    "version": 3
   },
   "file_extension": ".py",
   "mimetype": "text/x-python",
   "name": "python",
   "nbconvert_exporter": "python",
   "pygments_lexer": "ipython3",
   "version": "3.9.17"
  }
 },
 "nbformat": 4,
 "nbformat_minor": 5
}
